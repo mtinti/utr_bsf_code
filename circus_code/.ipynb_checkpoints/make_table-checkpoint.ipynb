{
 "cells": [
  {
   "cell_type": "code",
   "execution_count": null,
   "metadata": {},
   "outputs": [],
   "source": [
    "import os\n",
    "import pandas as pd\n",
    "import numpy as np\n",
    "from tqdm.notebook import tqdm\n",
    "import warnings\n",
    "warnings.filterwarnings(\"ignore\")"
   ]
  },
  {
   "cell_type": "code",
   "execution_count": null,
   "metadata": {},
   "outputs": [],
   "source": [
    "def get_attributes(att=''):\n",
    "    attributes = {}\n",
    "    for n in att.split(';'):\n",
    "        attributes[n.split('=')[0]]=n.split('=')[1]\n",
    "    return attributes"
   ]
  },
  {
   "cell_type": "markdown",
   "metadata": {},
   "source": [
    "# polycistrons"
   ]
  },
  {
   "cell_type": "code",
   "execution_count": null,
   "metadata": {},
   "outputs": [
    {
     "data": {
      "application/vnd.jupyter.widget-view+json": {
       "model_id": "54901b8f075e4ddba28a87030e0fe0b7",
       "version_major": 2,
       "version_minor": 0
      },
      "text/plain": [
       "HBox(children=(FloatProgress(value=0.0, max=111.0), HTML(value='')))"
      ]
     },
     "metadata": {},
     "output_type": "display_data"
    },
    {
     "name": "stdout",
     "output_type": "stream",
     "text": [
      "\n"
     ]
    },
    {
     "data": {
      "application/vnd.jupyter.widget-view+json": {
       "model_id": "fee5d6cefa1d4c598e630eb442300ae1",
       "version_major": 2,
       "version_minor": 0
      },
      "text/plain": [
       "HBox(children=(FloatProgress(value=0.0, max=111.0), HTML(value='')))"
      ]
     },
     "metadata": {},
     "output_type": "display_data"
    },
    {
     "name": "stdout",
     "output_type": "stream",
     "text": [
      "\n"
     ]
    },
    {
     "data": {
      "text/html": [
       "<div>\n",
       "<style scoped>\n",
       "    .dataframe tbody tr th:only-of-type {\n",
       "        vertical-align: middle;\n",
       "    }\n",
       "\n",
       "    .dataframe tbody tr th {\n",
       "        vertical-align: top;\n",
       "    }\n",
       "\n",
       "    .dataframe thead th {\n",
       "        text-align: right;\n",
       "    }\n",
       "</style>\n",
       "<table border=\"1\" class=\"dataframe\">\n",
       "  <thead>\n",
       "    <tr style=\"text-align: right;\">\n",
       "      <th></th>\n",
       "      <th>seqname</th>\n",
       "      <th>start</th>\n",
       "      <th>end</th>\n",
       "      <th>strand</th>\n",
       "      <th>gene_id</th>\n",
       "      <th>strand_shift</th>\n",
       "      <th>change</th>\n",
       "      <th>polycistron_id</th>\n",
       "    </tr>\n",
       "  </thead>\n",
       "  <tbody>\n",
       "    <tr>\n",
       "      <th>42748</th>\n",
       "      <td>11L3_v3</td>\n",
       "      <td>23858</td>\n",
       "      <td>29262</td>\n",
       "      <td>-</td>\n",
       "      <td>Tb07.11L3.90</td>\n",
       "      <td>-</td>\n",
       "      <td>True</td>\n",
       "      <td>0</td>\n",
       "    </tr>\n",
       "    <tr>\n",
       "      <th>42946</th>\n",
       "      <td>11L3_v3</td>\n",
       "      <td>30224</td>\n",
       "      <td>48500</td>\n",
       "      <td>-</td>\n",
       "      <td>Tb07.11L3.100</td>\n",
       "      <td>-</td>\n",
       "      <td>True</td>\n",
       "      <td>0</td>\n",
       "    </tr>\n",
       "    <tr>\n",
       "      <th>16895</th>\n",
       "      <td>5K5_v5.1</td>\n",
       "      <td>3</td>\n",
       "      <td>97</td>\n",
       "      <td>-</td>\n",
       "      <td>Tb05.5K5.10</td>\n",
       "      <td>-</td>\n",
       "      <td>True</td>\n",
       "      <td>1</td>\n",
       "    </tr>\n",
       "    <tr>\n",
       "      <th>5795</th>\n",
       "      <td>5K5_v5.1</td>\n",
       "      <td>150</td>\n",
       "      <td>2405</td>\n",
       "      <td>-</td>\n",
       "      <td>Tb05.5K5.20</td>\n",
       "      <td>-</td>\n",
       "      <td>True</td>\n",
       "      <td>1</td>\n",
       "    </tr>\n",
       "    <tr>\n",
       "      <th>34797</th>\n",
       "      <td>5K5_v5.1</td>\n",
       "      <td>3300</td>\n",
       "      <td>7701</td>\n",
       "      <td>-</td>\n",
       "      <td>Tb05.5K5.30</td>\n",
       "      <td>-</td>\n",
       "      <td>True</td>\n",
       "      <td>1</td>\n",
       "    </tr>\n",
       "  </tbody>\n",
       "</table>\n",
       "</div>"
      ],
      "text/plain": [
       "        seqname  start    end strand        gene_id strand_shift  change  \\\n",
       "42748   11L3_v3  23858  29262      -   Tb07.11L3.90            -    True   \n",
       "42946   11L3_v3  30224  48500      -  Tb07.11L3.100            -    True   \n",
       "16895  5K5_v5.1      3     97      -    Tb05.5K5.10            -    True   \n",
       "5795   5K5_v5.1    150   2405      -    Tb05.5K5.20            -    True   \n",
       "34797  5K5_v5.1   3300   7701      -    Tb05.5K5.30            -    True   \n",
       "\n",
       "       polycistron_id  \n",
       "42748               0  \n",
       "42946               0  \n",
       "16895               1  \n",
       "5795                1  \n",
       "34797               1  "
      ]
     },
     "execution_count": null,
     "metadata": {},
     "output_type": "execute_result"
    }
   ],
   "source": [
    "infile=os.path.join('TriTrypDB-51_TbruceiTREU927.gff')\n",
    "#read the GFF file\n",
    "gff = pd.read_table(infile,header=None,comment='#',\n",
    "                    names = ['seqname','source',\n",
    "                             'feature','start',\n",
    "                             'end','score',\n",
    "                             'strand','frame','attribute'])\n",
    "#keep only gene data\n",
    "gff=gff[gff.feature=='gene']\n",
    "#extract gene name from attributes\n",
    "gff['gene_id']=[get_attributes(n)['ID'] for n in gff.attribute]\n",
    "#remove what we do not need\n",
    "gff.drop(['attribute','score','frame','source','feature'],inplace=True,axis=1)\n",
    "#be sure that everithing is sorted\n",
    "gff.sort_values(['seqname','start'],inplace=True)\n",
    "\n",
    "#print(gff.head())\n",
    "chr_dict = {}\n",
    "for chro in tqdm(gff.seqname.unique()):\n",
    "    chr_dict[chro]=gff[gff['seqname']==chro]\n",
    "  \n",
    "count=0\n",
    "#detect strand shift in chromosomes\n",
    "for chro in tqdm(gff.seqname.unique()):\n",
    "    #shift the strand by 1\n",
    "    chr_dict[chro]['strand_shift']=chr_dict[chro].strand.shift(1)\n",
    "    #fill the na with the values of previus strand\n",
    "    chr_dict[chro]['strand_shift'] = chr_dict[chro]['strand_shift'].fillna(\n",
    "        chr_dict[chro]['strand'][chr_dict[chro]['strand_shift'].isna()])\n",
    "    chr_dict[chro]['change']=chr_dict[chro]['strand_shift']==chr_dict[chro]['strand']\n",
    "    #print(chr_dict[chro].head())\n",
    "    temp = []\n",
    "    #find were the strand change to create a\n",
    "    #unique id for each polycistron\n",
    "    for a in chr_dict[chro].change:\n",
    "        if a:\n",
    "            temp.append(count)\n",
    "        else:\n",
    "            temp.append(count+1)\n",
    "            count+=1\n",
    "    #add one so the polycistron id is \n",
    "    #different when we change cromosome\n",
    "    count+=1\n",
    "    chr_dict[chro]['polycistron_id']=temp\n",
    "    #print(chr_dict[chro].head())\n",
    "    \n",
    "gff = pd.concat([chr_dict[chro] for chro in gff.seqname.unique()])\n",
    "gff.head() "
   ]
  },
  {
   "cell_type": "code",
   "execution_count": null,
   "metadata": {},
   "outputs": [],
   "source": [
    "main_chro = set([\n",
    "    'Tb927_01_v5.1', 'Tb927_02_v5.1',\n",
    "    'Tb927_03_v5.1', 'Tb927_04_v5.1', \n",
    "    'Tb927_05_v5.1', 'Tb927_06_v5.1',\n",
    "    'Tb927_07_v5.1', 'Tb927_08_v5.1', \n",
    "    'Tb927_09_v5.1', 'Tb927_10_v5.1',\n",
    "    'Tb927_11_v5.1'])\n",
    "gff=gff[gff['seqname'].isin(main_chro)]"
   ]
  },
  {
   "cell_type": "code",
   "execution_count": null,
   "metadata": {},
   "outputs": [
    {
     "data": {
      "text/plain": [
       "seqname\n",
       "Tb927_01_v5.1     381\n",
       "Tb927_02_v5.1      10\n",
       "Tb927_03_v5.1      27\n",
       "Tb927_04_v5.1    1439\n",
       "Tb927_05_v5.1     965\n",
       "Tb927_06_v5.1       1\n",
       "Tb927_07_v5.1       2\n",
       "Tb927_08_v5.1       2\n",
       "Tb927_09_v5.1    4758\n",
       "Tb927_10_v5.1    1486\n",
       "Tb927_11_v5.1    2911\n",
       "Name: start, dtype: int64"
      ]
     },
     "execution_count": null,
     "metadata": {},
     "output_type": "execute_result"
    }
   ],
   "source": [
    "gff.groupby('seqname')['start'].min()"
   ]
  },
  {
   "cell_type": "code",
   "execution_count": null,
   "metadata": {},
   "outputs": [],
   "source": []
  },
  {
   "cell_type": "code",
   "execution_count": null,
   "metadata": {},
   "outputs": [],
   "source": [
    "#change min to zero\n",
    "for chro in main_chro:\n",
    "    temp = gff[gff['seqname']==chro]\n",
    "    gff.loc[temp[['start']].idxmin(),'start']=1"
   ]
  },
  {
   "cell_type": "code",
   "execution_count": null,
   "metadata": {},
   "outputs": [
    {
     "data": {
      "text/plain": [
       "{'Tb927_01_v5.1': 1064672,\n",
       " 'Tb927_02_v5.1': 1193948,\n",
       " 'Tb927_03_v5.1': 1653225,\n",
       " 'Tb927_04_v5.1': 1590432,\n",
       " 'Tb927_05_v5.1': 1802303,\n",
       " 'Tb927_06_v5.1': 1618915,\n",
       " 'Tb927_07_v5.1': 2205233,\n",
       " 'Tb927_08_v5.1': 2481190,\n",
       " 'Tb927_09_v5.1': 3542885,\n",
       " 'Tb927_10_v5.1': 4144375,\n",
       " 'Tb927_11_v5.1': 5223313}"
      ]
     },
     "execution_count": null,
     "metadata": {},
     "output_type": "execute_result"
    }
   ],
   "source": [
    "max_dict = {}\n",
    "for n in open(infile):\n",
    "    if n.startswith('#'):\n",
    "        chro = n.strip().split(' ')[1]\n",
    "        if chro in main_chro:\n",
    "            max_dict[chro]=int(n.strip().split(' ')[-1])\n",
    "    else:\n",
    "        break\n",
    "max_dict    "
   ]
  },
  {
   "cell_type": "code",
   "execution_count": null,
   "metadata": {},
   "outputs": [],
   "source": [
    "#change max to chr length\n",
    "for chro in main_chro:\n",
    "    temp = gff[gff['seqname']==chro]\n",
    "    gff.loc[temp[['end']].idxmax(),'end']=max_dict[chro]"
   ]
  },
  {
   "cell_type": "code",
   "execution_count": null,
   "metadata": {},
   "outputs": [
    {
     "data": {
      "text/plain": [
       "seqname\n",
       "Tb927_01_v5.1    1064672\n",
       "Tb927_02_v5.1    1193948\n",
       "Tb927_03_v5.1    1653225\n",
       "Tb927_04_v5.1    1590432\n",
       "Tb927_05_v5.1    1802303\n",
       "Tb927_06_v5.1    1618915\n",
       "Tb927_07_v5.1    2205233\n",
       "Tb927_08_v5.1    2481190\n",
       "Tb927_09_v5.1    3542885\n",
       "Tb927_10_v5.1    4144375\n",
       "Tb927_11_v5.1    5223313\n",
       "Name: end, dtype: int64"
      ]
     },
     "execution_count": null,
     "metadata": {},
     "output_type": "execute_result"
    }
   ],
   "source": [
    "gff.groupby('seqname')['end'].max()"
   ]
  },
  {
   "cell_type": "code",
   "execution_count": null,
   "metadata": {},
   "outputs": [],
   "source": [
    "#extend polycistron from last registred gene to the start of next gene in opposite direction\n",
    "polycistrons = pd.concat([gff.groupby(['seqname','polycistron_id','strand'])['start'].min(),\n",
    "           gff.groupby(['seqname','polycistron_id','strand'])['end'].max()],axis=1).reset_index()"
   ]
  },
  {
   "cell_type": "code",
   "execution_count": null,
   "metadata": {},
   "outputs": [
    {
     "data": {
      "text/html": [
       "<div>\n",
       "<style scoped>\n",
       "    .dataframe tbody tr th:only-of-type {\n",
       "        vertical-align: middle;\n",
       "    }\n",
       "\n",
       "    .dataframe tbody tr th {\n",
       "        vertical-align: top;\n",
       "    }\n",
       "\n",
       "    .dataframe thead th {\n",
       "        text-align: right;\n",
       "    }\n",
       "</style>\n",
       "<table border=\"1\" class=\"dataframe\">\n",
       "  <thead>\n",
       "    <tr style=\"text-align: right;\">\n",
       "      <th></th>\n",
       "      <th>seqname</th>\n",
       "      <th>polycistron_id</th>\n",
       "      <th>strand</th>\n",
       "      <th>start</th>\n",
       "      <th>end</th>\n",
       "    </tr>\n",
       "  </thead>\n",
       "  <tbody>\n",
       "    <tr>\n",
       "      <th>0</th>\n",
       "      <td>Tb927_01_v5.1</td>\n",
       "      <td>20</td>\n",
       "      <td>-</td>\n",
       "      <td>1</td>\n",
       "      <td>1983</td>\n",
       "    </tr>\n",
       "    <tr>\n",
       "      <th>1</th>\n",
       "      <td>Tb927_01_v5.1</td>\n",
       "      <td>21</td>\n",
       "      <td>+</td>\n",
       "      <td>6871</td>\n",
       "      <td>7203</td>\n",
       "    </tr>\n",
       "    <tr>\n",
       "      <th>2</th>\n",
       "      <td>Tb927_01_v5.1</td>\n",
       "      <td>22</td>\n",
       "      <td>-</td>\n",
       "      <td>7554</td>\n",
       "      <td>8566</td>\n",
       "    </tr>\n",
       "    <tr>\n",
       "      <th>3</th>\n",
       "      <td>Tb927_01_v5.1</td>\n",
       "      <td>23</td>\n",
       "      <td>+</td>\n",
       "      <td>11158</td>\n",
       "      <td>11865</td>\n",
       "    </tr>\n",
       "    <tr>\n",
       "      <th>4</th>\n",
       "      <td>Tb927_01_v5.1</td>\n",
       "      <td>24</td>\n",
       "      <td>-</td>\n",
       "      <td>12407</td>\n",
       "      <td>59047</td>\n",
       "    </tr>\n",
       "    <tr>\n",
       "      <th>...</th>\n",
       "      <td>...</td>\n",
       "      <td>...</td>\n",
       "      <td>...</td>\n",
       "      <td>...</td>\n",
       "      <td>...</td>\n",
       "    </tr>\n",
       "    <tr>\n",
       "      <th>358</th>\n",
       "      <td>Tb927_11_v5.1</td>\n",
       "      <td>607</td>\n",
       "      <td>+</td>\n",
       "      <td>5059560</td>\n",
       "      <td>5074772</td>\n",
       "    </tr>\n",
       "    <tr>\n",
       "      <th>359</th>\n",
       "      <td>Tb927_11_v5.1</td>\n",
       "      <td>608</td>\n",
       "      <td>-</td>\n",
       "      <td>5082133</td>\n",
       "      <td>5093502</td>\n",
       "    </tr>\n",
       "    <tr>\n",
       "      <th>360</th>\n",
       "      <td>Tb927_11_v5.1</td>\n",
       "      <td>609</td>\n",
       "      <td>+</td>\n",
       "      <td>5089938</td>\n",
       "      <td>5130296</td>\n",
       "    </tr>\n",
       "    <tr>\n",
       "      <th>361</th>\n",
       "      <td>Tb927_11_v5.1</td>\n",
       "      <td>610</td>\n",
       "      <td>-</td>\n",
       "      <td>5130638</td>\n",
       "      <td>5133342</td>\n",
       "    </tr>\n",
       "    <tr>\n",
       "      <th>362</th>\n",
       "      <td>Tb927_11_v5.1</td>\n",
       "      <td>611</td>\n",
       "      <td>+</td>\n",
       "      <td>5133509</td>\n",
       "      <td>5223313</td>\n",
       "    </tr>\n",
       "  </tbody>\n",
       "</table>\n",
       "<p>363 rows × 5 columns</p>\n",
       "</div>"
      ],
      "text/plain": [
       "           seqname  polycistron_id strand    start      end\n",
       "0    Tb927_01_v5.1              20      -        1     1983\n",
       "1    Tb927_01_v5.1              21      +     6871     7203\n",
       "2    Tb927_01_v5.1              22      -     7554     8566\n",
       "3    Tb927_01_v5.1              23      +    11158    11865\n",
       "4    Tb927_01_v5.1              24      -    12407    59047\n",
       "..             ...             ...    ...      ...      ...\n",
       "358  Tb927_11_v5.1             607      +  5059560  5074772\n",
       "359  Tb927_11_v5.1             608      -  5082133  5093502\n",
       "360  Tb927_11_v5.1             609      +  5089938  5130296\n",
       "361  Tb927_11_v5.1             610      -  5130638  5133342\n",
       "362  Tb927_11_v5.1             611      +  5133509  5223313\n",
       "\n",
       "[363 rows x 5 columns]"
      ]
     },
     "execution_count": null,
     "metadata": {},
     "output_type": "execute_result"
    }
   ],
   "source": [
    "polycistrons"
   ]
  },
  {
   "cell_type": "code",
   "execution_count": null,
   "metadata": {},
   "outputs": [
    {
     "data": {
      "text/html": [
       "<div>\n",
       "<style scoped>\n",
       "    .dataframe tbody tr th:only-of-type {\n",
       "        vertical-align: middle;\n",
       "    }\n",
       "\n",
       "    .dataframe tbody tr th {\n",
       "        vertical-align: top;\n",
       "    }\n",
       "\n",
       "    .dataframe thead th {\n",
       "        text-align: right;\n",
       "    }\n",
       "</style>\n",
       "<table border=\"1\" class=\"dataframe\">\n",
       "  <thead>\n",
       "    <tr style=\"text-align: right;\">\n",
       "      <th></th>\n",
       "      <th>seqname</th>\n",
       "      <th>polycistron_id</th>\n",
       "      <th>strand</th>\n",
       "      <th>start</th>\n",
       "      <th>end</th>\n",
       "    </tr>\n",
       "  </thead>\n",
       "  <tbody>\n",
       "    <tr>\n",
       "      <th>25</th>\n",
       "      <td>Tb927_02_v5.1</td>\n",
       "      <td>45</td>\n",
       "      <td>-</td>\n",
       "      <td>1</td>\n",
       "      <td>9689.0</td>\n",
       "    </tr>\n",
       "    <tr>\n",
       "      <th>26</th>\n",
       "      <td>Tb927_02_v5.1</td>\n",
       "      <td>46</td>\n",
       "      <td>+</td>\n",
       "      <td>9690</td>\n",
       "      <td>23834.0</td>\n",
       "    </tr>\n",
       "    <tr>\n",
       "      <th>27</th>\n",
       "      <td>Tb927_02_v5.1</td>\n",
       "      <td>47</td>\n",
       "      <td>-</td>\n",
       "      <td>23835</td>\n",
       "      <td>118322.0</td>\n",
       "    </tr>\n",
       "    <tr>\n",
       "      <th>28</th>\n",
       "      <td>Tb927_02_v5.1</td>\n",
       "      <td>48</td>\n",
       "      <td>+</td>\n",
       "      <td>118323</td>\n",
       "      <td>140724.0</td>\n",
       "    </tr>\n",
       "    <tr>\n",
       "      <th>29</th>\n",
       "      <td>Tb927_02_v5.1</td>\n",
       "      <td>49</td>\n",
       "      <td>-</td>\n",
       "      <td>140725</td>\n",
       "      <td>151836.0</td>\n",
       "    </tr>\n",
       "  </tbody>\n",
       "</table>\n",
       "</div>"
      ],
      "text/plain": [
       "          seqname  polycistron_id strand   start       end\n",
       "25  Tb927_02_v5.1              45      -       1    9689.0\n",
       "26  Tb927_02_v5.1              46      +    9690   23834.0\n",
       "27  Tb927_02_v5.1              47      -   23835  118322.0\n",
       "28  Tb927_02_v5.1              48      +  118323  140724.0\n",
       "29  Tb927_02_v5.1              49      -  140725  151836.0"
      ]
     },
     "execution_count": null,
     "metadata": {},
     "output_type": "execute_result"
    }
   ],
   "source": [
    "#fix end chro for last time\n",
    "list_df = []\n",
    "for chro in main_chro:\n",
    "    temp_df = polycistrons[polycistrons['seqname']==chro]\n",
    "    temp_df['end']=temp_df['start'].shift(-1)-1\n",
    "    temp_df = temp_df.fillna(max_dict[chro])\n",
    "    list_df.append(temp_df)\n",
    "\n",
    "polycistrons = pd.concat(list_df)\n",
    "polycistrons.head()\n"
   ]
  },
  {
   "cell_type": "code",
   "execution_count": null,
   "metadata": {},
   "outputs": [
    {
     "data": {
      "text/html": [
       "<div>\n",
       "<style scoped>\n",
       "    .dataframe tbody tr th:only-of-type {\n",
       "        vertical-align: middle;\n",
       "    }\n",
       "\n",
       "    .dataframe tbody tr th {\n",
       "        vertical-align: top;\n",
       "    }\n",
       "\n",
       "    .dataframe thead th {\n",
       "        text-align: right;\n",
       "    }\n",
       "</style>\n",
       "<table border=\"1\" class=\"dataframe\">\n",
       "  <thead>\n",
       "    <tr style=\"text-align: right;\">\n",
       "      <th></th>\n",
       "      <th>seqname</th>\n",
       "      <th>polycistron_id</th>\n",
       "      <th>strand</th>\n",
       "      <th>start</th>\n",
       "      <th>end</th>\n",
       "    </tr>\n",
       "  </thead>\n",
       "  <tbody>\n",
       "    <tr>\n",
       "      <th>25</th>\n",
       "      <td>Tb927_02_v5.1</td>\n",
       "      <td>1</td>\n",
       "      <td>-</td>\n",
       "      <td>1</td>\n",
       "      <td>9689</td>\n",
       "    </tr>\n",
       "    <tr>\n",
       "      <th>26</th>\n",
       "      <td>Tb927_02_v5.1</td>\n",
       "      <td>2</td>\n",
       "      <td>+</td>\n",
       "      <td>9690</td>\n",
       "      <td>23834</td>\n",
       "    </tr>\n",
       "    <tr>\n",
       "      <th>27</th>\n",
       "      <td>Tb927_02_v5.1</td>\n",
       "      <td>3</td>\n",
       "      <td>-</td>\n",
       "      <td>23835</td>\n",
       "      <td>118322</td>\n",
       "    </tr>\n",
       "    <tr>\n",
       "      <th>28</th>\n",
       "      <td>Tb927_02_v5.1</td>\n",
       "      <td>4</td>\n",
       "      <td>+</td>\n",
       "      <td>118323</td>\n",
       "      <td>140724</td>\n",
       "    </tr>\n",
       "    <tr>\n",
       "      <th>29</th>\n",
       "      <td>Tb927_02_v5.1</td>\n",
       "      <td>5</td>\n",
       "      <td>-</td>\n",
       "      <td>140725</td>\n",
       "      <td>151836</td>\n",
       "    </tr>\n",
       "  </tbody>\n",
       "</table>\n",
       "</div>"
      ],
      "text/plain": [
       "          seqname  polycistron_id strand   start     end\n",
       "25  Tb927_02_v5.1               1      -       1    9689\n",
       "26  Tb927_02_v5.1               2      +    9690   23834\n",
       "27  Tb927_02_v5.1               3      -   23835  118322\n",
       "28  Tb927_02_v5.1               4      +  118323  140724\n",
       "29  Tb927_02_v5.1               5      -  140725  151836"
      ]
     },
     "execution_count": null,
     "metadata": {},
     "output_type": "execute_result"
    }
   ],
   "source": [
    "polycistrons['end']=polycistrons['end'].astype(int)\n",
    "polycistrons['polycistron_id']=range(1,polycistrons.shape[0]+1)\n",
    "polycistrons.head()"
   ]
  },
  {
   "cell_type": "code",
   "execution_count": null,
   "metadata": {},
   "outputs": [
    {
     "data": {
      "text/html": [
       "<div>\n",
       "<style scoped>\n",
       "    .dataframe tbody tr th:only-of-type {\n",
       "        vertical-align: middle;\n",
       "    }\n",
       "\n",
       "    .dataframe tbody tr th {\n",
       "        vertical-align: top;\n",
       "    }\n",
       "\n",
       "    .dataframe thead th {\n",
       "        text-align: right;\n",
       "    }\n",
       "</style>\n",
       "<table border=\"1\" class=\"dataframe\">\n",
       "  <thead>\n",
       "    <tr style=\"text-align: right;\">\n",
       "      <th></th>\n",
       "      <th>seqname</th>\n",
       "      <th>polycistron_id</th>\n",
       "      <th>strand</th>\n",
       "      <th>start</th>\n",
       "      <th>end</th>\n",
       "    </tr>\n",
       "  </thead>\n",
       "  <tbody>\n",
       "    <tr>\n",
       "      <th>25</th>\n",
       "      <td>Tb927_02_v5.1</td>\n",
       "      <td>1</td>\n",
       "      <td>-</td>\n",
       "      <td>0</td>\n",
       "      <td>9688</td>\n",
       "    </tr>\n",
       "    <tr>\n",
       "      <th>26</th>\n",
       "      <td>Tb927_02_v5.1</td>\n",
       "      <td>2</td>\n",
       "      <td>+</td>\n",
       "      <td>9689</td>\n",
       "      <td>23833</td>\n",
       "    </tr>\n",
       "    <tr>\n",
       "      <th>27</th>\n",
       "      <td>Tb927_02_v5.1</td>\n",
       "      <td>3</td>\n",
       "      <td>-</td>\n",
       "      <td>23834</td>\n",
       "      <td>118321</td>\n",
       "    </tr>\n",
       "    <tr>\n",
       "      <th>28</th>\n",
       "      <td>Tb927_02_v5.1</td>\n",
       "      <td>4</td>\n",
       "      <td>+</td>\n",
       "      <td>118322</td>\n",
       "      <td>140723</td>\n",
       "    </tr>\n",
       "    <tr>\n",
       "      <th>29</th>\n",
       "      <td>Tb927_02_v5.1</td>\n",
       "      <td>5</td>\n",
       "      <td>-</td>\n",
       "      <td>140724</td>\n",
       "      <td>151835</td>\n",
       "    </tr>\n",
       "  </tbody>\n",
       "</table>\n",
       "</div>"
      ],
      "text/plain": [
       "          seqname  polycistron_id strand   start     end\n",
       "25  Tb927_02_v5.1               1      -       0    9688\n",
       "26  Tb927_02_v5.1               2      +    9689   23833\n",
       "27  Tb927_02_v5.1               3      -   23834  118321\n",
       "28  Tb927_02_v5.1               4      +  118322  140723\n",
       "29  Tb927_02_v5.1               5      -  140724  151835"
      ]
     },
     "execution_count": null,
     "metadata": {},
     "output_type": "execute_result"
    }
   ],
   "source": [
    "#format_circos\n",
    "polycistrons['start']=polycistrons['start']-1\n",
    "polycistrons['end']=polycistrons['end']-1\n",
    "polycistrons.head()"
   ]
  },
  {
   "cell_type": "markdown",
   "metadata": {},
   "source": [
    "# karyotype BANDS"
   ]
  },
  {
   "cell_type": "code",
   "execution_count": null,
   "metadata": {},
   "outputs": [
    {
     "data": {
      "text/html": [
       "<div>\n",
       "<style scoped>\n",
       "    .dataframe tbody tr th:only-of-type {\n",
       "        vertical-align: middle;\n",
       "    }\n",
       "\n",
       "    .dataframe tbody tr th {\n",
       "        vertical-align: top;\n",
       "    }\n",
       "\n",
       "    .dataframe thead th {\n",
       "        text-align: right;\n",
       "    }\n",
       "</style>\n",
       "<table border=\"1\" class=\"dataframe\">\n",
       "  <thead>\n",
       "    <tr style=\"text-align: right;\">\n",
       "      <th></th>\n",
       "      <th>band</th>\n",
       "      <th>chro</th>\n",
       "      <th>band_id</th>\n",
       "      <th>band_id</th>\n",
       "      <th>start</th>\n",
       "      <th>end</th>\n",
       "      <th>color</th>\n",
       "    </tr>\n",
       "  </thead>\n",
       "  <tbody>\n",
       "    <tr>\n",
       "      <th>25</th>\n",
       "      <td>band</td>\n",
       "      <td>Tb927_02_v5.1</td>\n",
       "      <td>Tb927_02_v5.1_band</td>\n",
       "      <td>Tb927_02_v5.1_band</td>\n",
       "      <td>0</td>\n",
       "      <td>9688</td>\n",
       "      <td>black</td>\n",
       "    </tr>\n",
       "    <tr>\n",
       "      <th>26</th>\n",
       "      <td>band</td>\n",
       "      <td>Tb927_02_v5.1</td>\n",
       "      <td>Tb927_02_v5.1_band</td>\n",
       "      <td>Tb927_02_v5.1_band</td>\n",
       "      <td>9689</td>\n",
       "      <td>23833</td>\n",
       "      <td>white</td>\n",
       "    </tr>\n",
       "    <tr>\n",
       "      <th>27</th>\n",
       "      <td>band</td>\n",
       "      <td>Tb927_02_v5.1</td>\n",
       "      <td>Tb927_02_v5.1_band</td>\n",
       "      <td>Tb927_02_v5.1_band</td>\n",
       "      <td>23834</td>\n",
       "      <td>118321</td>\n",
       "      <td>black</td>\n",
       "    </tr>\n",
       "    <tr>\n",
       "      <th>28</th>\n",
       "      <td>band</td>\n",
       "      <td>Tb927_02_v5.1</td>\n",
       "      <td>Tb927_02_v5.1_band</td>\n",
       "      <td>Tb927_02_v5.1_band</td>\n",
       "      <td>118322</td>\n",
       "      <td>140723</td>\n",
       "      <td>white</td>\n",
       "    </tr>\n",
       "    <tr>\n",
       "      <th>29</th>\n",
       "      <td>band</td>\n",
       "      <td>Tb927_02_v5.1</td>\n",
       "      <td>Tb927_02_v5.1_band</td>\n",
       "      <td>Tb927_02_v5.1_band</td>\n",
       "      <td>140724</td>\n",
       "      <td>151835</td>\n",
       "      <td>black</td>\n",
       "    </tr>\n",
       "  </tbody>\n",
       "</table>\n",
       "</div>"
      ],
      "text/plain": [
       "    band           chro             band_id             band_id   start  \\\n",
       "25  band  Tb927_02_v5.1  Tb927_02_v5.1_band  Tb927_02_v5.1_band       0   \n",
       "26  band  Tb927_02_v5.1  Tb927_02_v5.1_band  Tb927_02_v5.1_band    9689   \n",
       "27  band  Tb927_02_v5.1  Tb927_02_v5.1_band  Tb927_02_v5.1_band   23834   \n",
       "28  band  Tb927_02_v5.1  Tb927_02_v5.1_band  Tb927_02_v5.1_band  118322   \n",
       "29  band  Tb927_02_v5.1  Tb927_02_v5.1_band  Tb927_02_v5.1_band  140724   \n",
       "\n",
       "       end  color  \n",
       "25    9688  black  \n",
       "26   23833  white  \n",
       "27  118321  black  \n",
       "28  140723  white  \n",
       "29  151835  black  "
      ]
     },
     "execution_count": null,
     "metadata": {},
     "output_type": "execute_result"
    }
   ],
   "source": [
    "circos_bands = pd.DataFrame()\n",
    "circos_bands['start']=polycistrons['start']\n",
    "circos_bands['end']=polycistrons['end']\n",
    "circos_bands['band']='band'\n",
    "circos_bands['chro']=polycistrons['seqname']\n",
    "circos_bands['band_id']=circos_bands['chro']+'_'+circos_bands['band']\n",
    "circos_bands['color']=['black' if n == '-' else 'white' for n in polycistrons['strand']]\n",
    "circos_bands=circos_bands[['band','chro','band_id','band_id','start','end','color']]\n",
    "circos_bands.to_csv('karyotype.tryp_2.txt',index=False,header=False,sep=' ')\n",
    "circos_bands.head()\n",
    "#band hs1 p36.33 p36.33 0 2300000 gneg\n",
    "#band hs1 p36.32 p36.32 2300000 5300000 gpos25"
   ]
  },
  {
   "cell_type": "markdown",
   "metadata": {},
   "source": [
    "\n",
    "# karyotype IDEOGRAM"
   ]
  },
  {
   "cell_type": "code",
   "execution_count": null,
   "metadata": {},
   "outputs": [],
   "source": [
    "circos_chro = pd.DataFrame.from_dict(max_dict,orient=\"index\")\n",
    "circos_chro=circos_chro.reset_index()\n",
    "circos_chro.columns=['chro','end']\n",
    "circos_chro['start']=0\n",
    "circos_chro['end']=circos_chro['end']-1\n",
    "circos_chro['tag']='-'\n",
    "circos_chro['type']='chr'\n",
    "#circos_chro['id'] = ['Chr'+n.split('_')[1] for n in circos_chro['chro']]\n",
    "circos_chro['id'] = [n.split('_')[1].lstrip('0') for n in circos_chro['chro']]\n",
    "circos_chro['color'] = 'grey'\n",
    "circos_chro = circos_chro[['type','tag','chro','id','start','end','color']]\n",
    "\n",
    "circos_chro.to_csv('karyotype.tryp_1.txt',index=False,header=False,sep=' ')"
   ]
  },
  {
   "cell_type": "code",
   "execution_count": null,
   "metadata": {},
   "outputs": [],
   "source": [
    "with open('karyotype.tryp.txt','w') as out:\n",
    "    out.write(open('karyotype.tryp_1.txt').read()+open('karyotype.tryp_2.txt').read())"
   ]
  },
  {
   "cell_type": "markdown",
   "metadata": {},
   "source": [
    "# Sence"
   ]
  },
  {
   "cell_type": "code",
   "execution_count": null,
   "metadata": {},
   "outputs": [
    {
     "name": "stdout",
     "output_type": "stream",
     "text": [
      "(4978, 52)\n"
     ]
    }
   ],
   "source": [
    "plus_cols = [\n",
    "    'BSF_03_F',\n",
    "    'BSF_03_RR',\n",
    "'BSF_04_F',\n",
    "'BSF_04_RR',\n",
    "'BSF_05_F',\n",
    "'BSF_05_RR']\n",
    "\n",
    "minus_cols = [\n",
    "'BSF_03_R',\n",
    "'BSF_03_FR',\n",
    "'BSF_04_R',\n",
    "'BSF_04_FR',\n",
    "'BSF_05_R',\n",
    "'BSF_05_FR']\n",
    "\n",
    "bla_df= pd.read_csv('../final_df_B.csv')\n",
    "print(bla_df.shape)\n",
    "bla_df['sum'] = bla_df[plus_cols].sum(axis=1)\n",
    "temp_plus = bla_df[bla_df['orientation']=='+']\n",
    "temp_minus = bla_df[bla_df['orientation']=='-']\n",
    "\n",
    "scatter_df = pd.concat([temp_plus,temp_minus])\n",
    "scatter_df = scatter_df[scatter_df['Chr'].isin(main_chro)]\n",
    "scatter_df[scatter_df['get_region']!='none']\n",
    "scatter_df['sum'] = np.log10(scatter_df['sum']+1)\n",
    "scatter_df[['Chr','Start','End','sum']].to_csv('bla_scatter.txt',index=False,header=False,sep=' ')"
   ]
  },
  {
   "cell_type": "code",
   "execution_count": null,
   "metadata": {},
   "outputs": [
    {
     "data": {
      "text/plain": [
       "count    3541.000000\n",
       "mean        1.455910\n",
       "std         0.941091\n",
       "min         0.000000\n",
       "25%         0.698970\n",
       "50%         1.477121\n",
       "75%         2.187521\n",
       "max         3.852785\n",
       "Name: sum, dtype: float64"
      ]
     },
     "execution_count": null,
     "metadata": {},
     "output_type": "execute_result"
    }
   ],
   "source": [
    "scatter_df['sum'].describe()"
   ]
  },
  {
   "cell_type": "code",
   "execution_count": null,
   "metadata": {},
   "outputs": [
    {
     "name": "stdout",
     "output_type": "stream",
     "text": [
      "(8272, 52)\n"
     ]
    },
    {
     "data": {
      "text/plain": [
       "count    5984.000000\n",
       "mean        1.706137\n",
       "std         0.804876\n",
       "min         0.000000\n",
       "25%         1.197113\n",
       "50%         1.799341\n",
       "75%         2.296665\n",
       "max         3.916138\n",
       "Name: sum, dtype: float64"
      ]
     },
     "execution_count": null,
     "metadata": {},
     "output_type": "execute_result"
    }
   ],
   "source": [
    "plus_cols = [\n",
    "    'BSF_06_F',\n",
    "    'BSF_06_RR',\n",
    "'BSF_07_F',\n",
    "'BSF_07_RR',\n",
    "'BSF_08_F',\n",
    "'BSF_08_RR']\n",
    "\n",
    "minus_cols = [\n",
    "'BSF_06_R',\n",
    "'BSF_06_FR',\n",
    "'BSF_07_R',\n",
    "'BSF_07_FR',\n",
    "'BSF_08_R',\n",
    "'BSF_08_FR']\n",
    "\n",
    "bla_df= pd.read_csv('../final_df_G.csv')\n",
    "print(bla_df.shape)\n",
    "bla_df['sum'] = bla_df[plus_cols].sum(axis=1)\n",
    "temp_plus = bla_df[bla_df['orientation']=='+']\n",
    "temp_minus = bla_df[bla_df['orientation']=='-']\n",
    "\n",
    "scatter_df = pd.concat([temp_plus,temp_minus])\n",
    "scatter_df = scatter_df[scatter_df['Chr'].isin(main_chro)]\n",
    "scatter_df['sum'] = np.log10(scatter_df['sum']+1)\n",
    "scatter_df[scatter_df['get_region']!='none']\n",
    "scatter_df[['Chr','Start','End','sum']].to_csv('gla_scatter.txt',index=False,header=False,sep=' ')\n",
    "scatter_df['sum'].describe()"
   ]
  },
  {
   "cell_type": "code",
   "execution_count": null,
   "metadata": {},
   "outputs": [],
   "source": []
  },
  {
   "cell_type": "markdown",
   "metadata": {},
   "source": [
    "## bla_scatter_cds"
   ]
  },
  {
   "cell_type": "code",
   "execution_count": null,
   "metadata": {},
   "outputs": [
    {
     "name": "stdout",
     "output_type": "stream",
     "text": [
      "1 (4978, 52)\n",
      "(411, 52)\n",
      "2 (411, 52)\n"
     ]
    },
    {
     "data": {
      "text/plain": [
       "count    80.000000\n",
       "mean      1.748196\n",
       "std       1.378365\n",
       "min       0.032421\n",
       "25%       0.614277\n",
       "50%       1.289507\n",
       "75%       2.790945\n",
       "max       5.415037\n",
       "Name: fc, dtype: float64"
      ]
     },
     "execution_count": null,
     "metadata": {},
     "output_type": "execute_result"
    }
   ],
   "source": [
    "\n",
    "plus_cols = [\n",
    "    'BSF_03_F',\n",
    "    'BSF_03_RR',\n",
    "'BSF_04_F',\n",
    "'BSF_04_RR',\n",
    "'BSF_05_F',\n",
    "'BSF_05_RR']\n",
    "\n",
    "control_plus = [\n",
    "    'BSF_01_F',\n",
    "    'BSF_01_RR',    \n",
    "]\n",
    "\n",
    "\n",
    "minus_cols = [\n",
    "'BSF_03_R',\n",
    "'BSF_03_FR',\n",
    "'BSF_04_R',\n",
    "'BSF_04_FR',\n",
    "'BSF_05_R',\n",
    "'BSF_05_FR']\n",
    "\n",
    "\n",
    "control_minus = [\n",
    "    'BSF_01_F',\n",
    "    'BSF_01_RR',    \n",
    "]\n",
    "\n",
    "bla_df= pd.read_csv('../final_df_B.csv')\n",
    "temp_df = pd.read_csv('final_df_B_only_cds.bed',sep='\\t',header=None,index_col=-1)\n",
    "\n",
    "print(1,bla_df.shape)\n",
    "bla_df = bla_df[bla_df['Geneid'].isin(temp_df.index.values)]\n",
    "print(bla_df.shape)\n",
    "\n",
    "print(2,bla_df.shape)\n",
    "\n",
    "\n",
    "\n",
    "temp_plus = bla_df[bla_df['orientation']=='+']\n",
    "temp_plus['fc'] = temp_plus[plus_cols].sum(axis=1)/3\n",
    "temp_plus['fc'] = temp_plus['fc']\n",
    "temp_plus['fc'] = temp_plus['fc']/(temp_plus[control_plus].sum(axis=1)+1)\n",
    "temp_plus['fc']=np.log2(temp_plus['fc'])\n",
    "temp_plus = temp_plus[temp_plus['fc']>0]\n",
    "\n",
    "\n",
    "temp_minus = bla_df[bla_df['orientation']=='-']\n",
    "temp_minus['fc'] = temp_minus[minus_cols].sum(axis=1)/3\n",
    "temp_minus['fc'] = temp_minus['fc']/(temp_minus[control_minus].sum(axis=1)+1)\n",
    "temp_minus['fc']=np.log2(temp_minus['fc'])\n",
    "temp_minus = temp_minus[temp_minus['fc']>0]\n",
    "\n",
    "\n",
    "scatter_df = pd.concat([temp_plus,temp_minus])\n",
    "scatter_df = scatter_df[scatter_df['Chr'].isin(main_chro)]\n",
    "scatter_df[scatter_df['get_region']!='none']\n",
    "\n",
    "scatter_df = scatter_df.replace(-np.inf,np.nan).dropna()\n",
    "\n",
    "scatter_df[['Chr','Start','End','fc']].to_csv('bla_scatter_cds.txt',index=False,header=False,sep=' ')\n",
    "scatter_df['fc'].describe()"
   ]
  },
  {
   "cell_type": "code",
   "execution_count": null,
   "metadata": {},
   "outputs": [
    {
     "data": {
      "text/plain": [
       "['BSF_03_F', 'BSF_03_RR']"
      ]
     },
     "execution_count": null,
     "metadata": {},
     "output_type": "execute_result"
    }
   ],
   "source": [
    "plus_cols[0:2]"
   ]
  },
  {
   "cell_type": "markdown",
   "metadata": {},
   "source": [
    "## bla_scatter_utr"
   ]
  },
  {
   "cell_type": "code",
   "execution_count": null,
   "metadata": {},
   "outputs": [
    {
     "name": "stdout",
     "output_type": "stream",
     "text": [
      "1 (4978, 52)\n",
      "1 (4567, 52)\n"
     ]
    },
    {
     "data": {
      "text/plain": [
       "count    1827.000000\n",
       "mean        1.982071\n",
       "std         1.447791\n",
       "min         0.006232\n",
       "25%         0.827699\n",
       "50%         1.689518\n",
       "75%         2.807355\n",
       "max         8.196397\n",
       "Name: fc, dtype: float64"
      ]
     },
     "execution_count": null,
     "metadata": {},
     "output_type": "execute_result"
    }
   ],
   "source": [
    "\n",
    "plus_cols = [\n",
    "    'BSF_03_F',\n",
    "    'BSF_03_RR',\n",
    "'BSF_04_F',\n",
    "'BSF_04_RR',\n",
    "'BSF_05_F',\n",
    "'BSF_05_RR']\n",
    "\n",
    "control_plus = [\n",
    "    'BSF_01_F',\n",
    "    'BSF_01_RR',    \n",
    "]\n",
    "\n",
    "\n",
    "minus_cols = [\n",
    "'BSF_03_R',\n",
    "'BSF_03_FR',\n",
    "'BSF_04_R',\n",
    "'BSF_04_FR',\n",
    "'BSF_05_R',\n",
    "'BSF_05_FR']\n",
    "\n",
    "\n",
    "control_minus = [\n",
    "    'BSF_01_F',\n",
    "    'BSF_01_RR',    \n",
    "]\n",
    "\n",
    "bla_df= pd.read_csv('../final_df_B.csv')\n",
    "temp_df = pd.read_csv('final_df_B_only_cds.bed',sep='\\t',header=None,index_col=-1)\n",
    "\n",
    "print(1,bla_df.shape)\n",
    "bla_df = bla_df[~bla_df['Geneid'].isin(temp_df.index.values)]\n",
    "print(1,bla_df.shape)\n",
    "\n",
    "\n",
    "\n",
    "\n",
    "temp_plus = bla_df[bla_df['orientation']=='+']\n",
    "temp_plus['fc'] = temp_plus[plus_cols].sum(axis=1)/3\n",
    "temp_plus['fc'] = temp_plus['fc']\n",
    "temp_plus['fc'] = temp_plus['fc']/(temp_plus[control_plus].sum(axis=1)+1)\n",
    "temp_plus['fc']=np.log2(temp_plus['fc'])\n",
    "temp_plus = temp_plus[temp_plus['fc']>0]\n",
    "\n",
    "temp_minus = bla_df[bla_df['orientation']=='-']\n",
    "temp_minus['fc'] = temp_minus[minus_cols].sum(axis=1)/3\n",
    "temp_minus['fc'] = temp_minus['fc']/(temp_minus[control_minus].sum(axis=1)+1)\n",
    "temp_minus['fc']=np.log2(temp_minus['fc'])\n",
    "temp_minus = temp_minus[temp_minus['fc']>0]\n",
    "\n",
    "scatter_df = pd.concat([temp_plus,temp_minus])\n",
    "scatter_df = scatter_df[scatter_df['Chr'].isin(main_chro)]\n",
    "scatter_df[scatter_df['get_region']!='none']\n",
    "\n",
    "scatter_df = scatter_df.replace(-np.inf,np.nan).dropna()\n",
    "\n",
    "scatter_df[['Chr','Start','End','fc']].to_csv('bla_scatter_utr.txt',index=False,header=False,sep=' ')\n",
    "scatter_df['fc'].describe()"
   ]
  },
  {
   "cell_type": "markdown",
   "metadata": {},
   "source": [
    "## gla_scatter_utr"
   ]
  },
  {
   "cell_type": "code",
   "execution_count": null,
   "metadata": {},
   "outputs": [
    {
     "name": "stdout",
     "output_type": "stream",
     "text": [
      "1 (8272, 52)\n",
      "1 (6331, 52)\n",
      "(1992, 53)\n"
     ]
    },
    {
     "data": {
      "text/plain": [
       "count    1915.000000\n",
       "mean        1.326739\n",
       "std         1.120133\n",
       "min         0.004140\n",
       "25%         0.530515\n",
       "50%         1.056487\n",
       "75%         1.807355\n",
       "max         9.046215\n",
       "Name: fc, dtype: float64"
      ]
     },
     "execution_count": null,
     "metadata": {},
     "output_type": "execute_result"
    }
   ],
   "source": [
    "\n",
    "\n",
    "control_plus = [\n",
    "    'BSF_01_F',\n",
    "    'BSF_01_RR',    \n",
    "]\n",
    "\n",
    "\n",
    "plus_cols = [\n",
    "    'BSF_06_F',\n",
    "    'BSF_06_RR',\n",
    "'BSF_07_F',\n",
    "'BSF_07_RR',\n",
    "'BSF_08_F',\n",
    "'BSF_08_RR']\n",
    "\n",
    "minus_cols = [\n",
    "'BSF_06_R',\n",
    "'BSF_06_FR',\n",
    "'BSF_07_R',\n",
    "'BSF_07_FR',\n",
    "'BSF_08_R',\n",
    "'BSF_08_FR']\n",
    "\n",
    "\n",
    "control_minus = [\n",
    "    'BSF_01_F',\n",
    "    'BSF_01_RR',    \n",
    "]\n",
    "\n",
    "bla_df= pd.read_csv('../final_df_G.csv')\n",
    "temp_df = pd.read_csv('final_df_G_only_cds.bed',sep='\\t',header=None,index_col=-1)\n",
    "\n",
    "print(1,bla_df.shape)\n",
    "bla_df = bla_df[~bla_df['Geneid'].isin(temp_df.index.values)]\n",
    "print(1,bla_df.shape)\n",
    "\n",
    "\n",
    "\n",
    "\n",
    "temp_plus = bla_df[bla_df['orientation']=='+']\n",
    "temp_plus['fc'] = temp_plus[plus_cols].sum(axis=1)/3\n",
    "temp_plus['fc'] = temp_plus['fc']\n",
    "temp_plus['fc'] = temp_plus['fc']/(temp_plus[control_plus].sum(axis=1)+1)\n",
    "temp_plus['fc']=np.log2(temp_plus['fc'])\n",
    "temp_plus = temp_plus[temp_plus['fc']>0]\n",
    "\n",
    "temp_minus = bla_df[bla_df['orientation']=='-']\n",
    "temp_minus['fc'] = temp_minus[minus_cols].sum(axis=1)/3\n",
    "temp_minus['fc'] = temp_minus['fc']/(temp_minus[control_minus].sum(axis=1)+1)\n",
    "temp_minus['fc']=np.log2(temp_minus['fc'])\n",
    "temp_minus = temp_minus[temp_minus['fc']>0]\n",
    "\n",
    "scatter_df = pd.concat([temp_plus,temp_minus])\n",
    "scatter_df = scatter_df[scatter_df['Chr'].isin(main_chro)]\n",
    "\n",
    "print(scatter_df.shape)\n",
    "scatter_df = scatter_df.replace(-np.inf,np.nan).dropna()\n",
    "\n",
    "scatter_df[['Chr','Start','End','fc']].to_csv('gla_scatter_utr.txt',index=False,header=False,sep=' ')\n",
    "scatter_df['fc'].describe()"
   ]
  },
  {
   "cell_type": "markdown",
   "metadata": {},
   "source": [
    "## gla_scatter_cds"
   ]
  },
  {
   "cell_type": "code",
   "execution_count": null,
   "metadata": {},
   "outputs": [
    {
     "name": "stdout",
     "output_type": "stream",
     "text": [
      "1 (8272, 52)\n",
      "2 (1941, 52)\n",
      "(982, 53)\n"
     ]
    },
    {
     "data": {
      "text/plain": [
       "count    918.000000\n",
       "mean       1.572313\n",
       "std        1.326708\n",
       "min        0.005714\n",
       "25%        0.615846\n",
       "50%        1.246714\n",
       "75%        2.064503\n",
       "max        8.921841\n",
       "Name: fc, dtype: float64"
      ]
     },
     "execution_count": null,
     "metadata": {},
     "output_type": "execute_result"
    }
   ],
   "source": [
    "\n",
    "\n",
    "control_plus = [\n",
    "    'BSF_01_F',\n",
    "    'BSF_01_RR',    \n",
    "]\n",
    "\n",
    "\n",
    "plus_cols = [\n",
    "    'BSF_06_F',\n",
    "    'BSF_06_RR',\n",
    "'BSF_07_F',\n",
    "'BSF_07_RR',\n",
    "'BSF_08_F',\n",
    "'BSF_08_RR']\n",
    "\n",
    "minus_cols = [\n",
    "'BSF_06_R',\n",
    "'BSF_06_FR',\n",
    "'BSF_07_R',\n",
    "'BSF_07_FR',\n",
    "'BSF_08_R',\n",
    "'BSF_08_FR']\n",
    "\n",
    "\n",
    "control_minus = [\n",
    "    'BSF_01_F',\n",
    "    'BSF_01_RR',    \n",
    "]\n",
    "\n",
    "bla_df= pd.read_csv('../final_df_G.csv')\n",
    "\n",
    "\n",
    "temp_df = pd.read_csv('final_df_G_only_cds.bed',sep='\\t',header=None,index_col=-1)\n",
    "\n",
    "print(1,bla_df.shape)\n",
    "bla_df = bla_df[bla_df['Geneid'].isin(temp_df.index.values)]\n",
    "print(2,bla_df.shape)\n",
    "\n",
    "\n",
    "\n",
    "temp_plus = bla_df[bla_df['orientation']=='+']\n",
    "temp_plus['fc'] = temp_plus[plus_cols].sum(axis=1)/3\n",
    "temp_plus['fc'] = temp_plus['fc']\n",
    "temp_plus['fc'] = temp_plus['fc']/(temp_plus[control_plus].sum(axis=1)+1)\n",
    "temp_plus['fc']=np.log2(temp_plus['fc'])\n",
    "temp_plus = temp_plus[temp_plus['fc']>0]\n",
    "\n",
    "temp_minus = bla_df[bla_df['orientation']=='-']\n",
    "temp_minus['fc'] = temp_minus[minus_cols].sum(axis=1)/3\n",
    "temp_minus['fc'] = temp_minus['fc']/(temp_minus[control_minus].sum(axis=1)+1)\n",
    "temp_minus['fc']=np.log2(temp_minus['fc'])\n",
    "temp_minus = temp_minus[temp_minus['fc']>0]\n",
    "\n",
    "scatter_df = pd.concat([temp_plus,temp_minus])\n",
    "scatter_df = scatter_df[scatter_df['Chr'].isin(main_chro)]\n",
    "\n",
    "print(scatter_df.shape)\n",
    "scatter_df = scatter_df.replace(-np.inf,np.nan).dropna()\n",
    "\n",
    "scatter_df[['Chr','Start','End','fc']].to_csv('gla_scatter_cds.txt',index=False,header=False,sep=' ')\n",
    "scatter_df['fc'].describe()"
   ]
  },
  {
   "cell_type": "code",
   "execution_count": null,
   "metadata": {},
   "outputs": [],
   "source": [
    "infile=os.path.join('TriTrypDB-51_TbruceiTREU927.gff')\n",
    "#read the GFF file\n",
    "gff = pd.read_table(infile,header=None,comment='#',\n",
    "                    names = ['seqname','source',\n",
    "                             'feature','start',\n",
    "                             'end','score',\n",
    "                             'strand','frame','attribute'])\n",
    "gff = gff[gff['feature']=='CDS']\n",
    "gff[['seqname','start','end']].to_csv('cds_927.bed',sep='\\t',index=False,header=False)"
   ]
  },
  {
   "cell_type": "code",
   "execution_count": null,
   "metadata": {},
   "outputs": [],
   "source": [
    "bla_df= pd.read_csv('../final_df_B.csv')\n",
    "bla_df[['Chr','Start','End','Geneid']].to_csv('final_df_B.bed',sep='\\t',index=False,header=False)"
   ]
  },
  {
   "cell_type": "code",
   "execution_count": null,
   "metadata": {},
   "outputs": [],
   "source": [
    "bla_df= pd.read_csv('../final_df_G.csv')\n",
    "bla_df[['Chr','Start','End','Geneid']].to_csv('final_df_G.bed',sep='\\t',index=False,header=False)"
   ]
  },
  {
   "cell_type": "code",
   "execution_count": null,
   "metadata": {},
   "outputs": [
    {
     "data": {
      "text/html": [
       "<div>\n",
       "<style scoped>\n",
       "    .dataframe tbody tr th:only-of-type {\n",
       "        vertical-align: middle;\n",
       "    }\n",
       "\n",
       "    .dataframe tbody tr th {\n",
       "        vertical-align: top;\n",
       "    }\n",
       "\n",
       "    .dataframe thead th {\n",
       "        text-align: right;\n",
       "    }\n",
       "</style>\n",
       "<table border=\"1\" class=\"dataframe\">\n",
       "  <thead>\n",
       "    <tr style=\"text-align: right;\">\n",
       "      <th></th>\n",
       "      <th>Geneid</th>\n",
       "      <th>Chr</th>\n",
       "      <th>Start</th>\n",
       "      <th>End</th>\n",
       "      <th>Strand</th>\n",
       "      <th>Length</th>\n",
       "      <th>BSF_01</th>\n",
       "      <th>BSF_06</th>\n",
       "      <th>BSF_07</th>\n",
       "      <th>BSF_08</th>\n",
       "      <th>...</th>\n",
       "      <th>BSF_08_enrich</th>\n",
       "      <th>sum_reads</th>\n",
       "      <th>belongs_to</th>\n",
       "      <th>is_main_chr</th>\n",
       "      <th>desc</th>\n",
       "      <th>CF_median</th>\n",
       "      <th>enrichment_median</th>\n",
       "      <th>get_region</th>\n",
       "      <th>ks_overlap</th>\n",
       "      <th>orient_change</th>\n",
       "    </tr>\n",
       "  </thead>\n",
       "  <tbody>\n",
       "    <tr>\n",
       "      <th>0</th>\n",
       "      <td>NA_peak_20</td>\n",
       "      <td>5K5_v5.1</td>\n",
       "      <td>38453</td>\n",
       "      <td>39045</td>\n",
       "      <td>.</td>\n",
       "      <td>593</td>\n",
       "      <td>969</td>\n",
       "      <td>1312</td>\n",
       "      <td>1048</td>\n",
       "      <td>1622</td>\n",
       "      <td>...</td>\n",
       "      <td>0.592398</td>\n",
       "      <td>3217.0</td>\n",
       "      <td>Tb05.5K5.170</td>\n",
       "      <td>False</td>\n",
       "      <td>elongation of very long chain fatty acids prot...</td>\n",
       "      <td>0.836066</td>\n",
       "      <td>0.550145</td>\n",
       "      <td>5K5_v5.1:38453..39045:f</td>\n",
       "      <td>none</td>\n",
       "      <td>True</td>\n",
       "    </tr>\n",
       "    <tr>\n",
       "      <th>1</th>\n",
       "      <td>NA_peak_21</td>\n",
       "      <td>5K5_v5.1</td>\n",
       "      <td>41304</td>\n",
       "      <td>42911</td>\n",
       "      <td>.</td>\n",
       "      <td>1608</td>\n",
       "      <td>2840</td>\n",
       "      <td>9890</td>\n",
       "      <td>8518</td>\n",
       "      <td>9592</td>\n",
       "      <td>...</td>\n",
       "      <td>0.444142</td>\n",
       "      <td>633.0</td>\n",
       "      <td>Tb05.5K5.170</td>\n",
       "      <td>False</td>\n",
       "      <td>elongation of very long chain fatty acids prot...</td>\n",
       "      <td>0.017007</td>\n",
       "      <td>0.284211</td>\n",
       "      <td>5K5_v5.1:41304..42034:f</td>\n",
       "      <td>none</td>\n",
       "      <td>True</td>\n",
       "    </tr>\n",
       "    <tr>\n",
       "      <th>2</th>\n",
       "      <td>NA_peak_22</td>\n",
       "      <td>5K5_v5.1</td>\n",
       "      <td>46294</td>\n",
       "      <td>47615</td>\n",
       "      <td>.</td>\n",
       "      <td>1322</td>\n",
       "      <td>928</td>\n",
       "      <td>2218</td>\n",
       "      <td>1336</td>\n",
       "      <td>1558</td>\n",
       "      <td>...</td>\n",
       "      <td>0.597737</td>\n",
       "      <td>3842.0</td>\n",
       "      <td>Tb05.5K5.180</td>\n",
       "      <td>False</td>\n",
       "      <td>receptor-type adenylate cyclase GRESAG 4, puta...</td>\n",
       "      <td>0.783333</td>\n",
       "      <td>0.643255</td>\n",
       "      <td>5K5_v5.1:47179..47615:f</td>\n",
       "      <td>none</td>\n",
       "      <td>True</td>\n",
       "    </tr>\n",
       "    <tr>\n",
       "      <th>3</th>\n",
       "      <td>NA_peak_23</td>\n",
       "      <td>5K5_v5.1</td>\n",
       "      <td>48944</td>\n",
       "      <td>49452</td>\n",
       "      <td>.</td>\n",
       "      <td>509</td>\n",
       "      <td>758</td>\n",
       "      <td>1822</td>\n",
       "      <td>1667</td>\n",
       "      <td>1880</td>\n",
       "      <td>...</td>\n",
       "      <td>0.089494</td>\n",
       "      <td>157.0</td>\n",
       "      <td>Tb05.5K5.190</td>\n",
       "      <td>False</td>\n",
       "      <td>receptor-type adenylate cyclase GRESAG 4, puta...</td>\n",
       "      <td>0.012270</td>\n",
       "      <td>0.089494</td>\n",
       "      <td>none</td>\n",
       "      <td>none</td>\n",
       "      <td>False</td>\n",
       "    </tr>\n",
       "    <tr>\n",
       "      <th>4</th>\n",
       "      <td>NA_peak_24</td>\n",
       "      <td>5K5_v5.1</td>\n",
       "      <td>52835</td>\n",
       "      <td>53476</td>\n",
       "      <td>.</td>\n",
       "      <td>642</td>\n",
       "      <td>449</td>\n",
       "      <td>1065</td>\n",
       "      <td>609</td>\n",
       "      <td>705</td>\n",
       "      <td>...</td>\n",
       "      <td>0.658038</td>\n",
       "      <td>1670.0</td>\n",
       "      <td>Tb05.5K5.190</td>\n",
       "      <td>False</td>\n",
       "      <td>receptor-type adenylate cyclase GRESAG 4, puta...</td>\n",
       "      <td>0.700000</td>\n",
       "      <td>0.658038</td>\n",
       "      <td>none</td>\n",
       "      <td>none</td>\n",
       "      <td>False</td>\n",
       "    </tr>\n",
       "  </tbody>\n",
       "</table>\n",
       "<p>5 rows × 52 columns</p>\n",
       "</div>"
      ],
      "text/plain": [
       "       Geneid       Chr  Start    End Strand  Length  BSF_01  BSF_06  BSF_07  \\\n",
       "0  NA_peak_20  5K5_v5.1  38453  39045      .     593     969    1312    1048   \n",
       "1  NA_peak_21  5K5_v5.1  41304  42911      .    1608    2840    9890    8518   \n",
       "2  NA_peak_22  5K5_v5.1  46294  47615      .    1322     928    2218    1336   \n",
       "3  NA_peak_23  5K5_v5.1  48944  49452      .     509     758    1822    1667   \n",
       "4  NA_peak_24  5K5_v5.1  52835  53476      .     642     449    1065     609   \n",
       "\n",
       "   BSF_08  ...  BSF_08_enrich  sum_reads    belongs_to  is_main_chr  \\\n",
       "0    1622  ...       0.592398     3217.0  Tb05.5K5.170        False   \n",
       "1    9592  ...       0.444142      633.0  Tb05.5K5.170        False   \n",
       "2    1558  ...       0.597737     3842.0  Tb05.5K5.180        False   \n",
       "3    1880  ...       0.089494      157.0  Tb05.5K5.190        False   \n",
       "4     705  ...       0.658038     1670.0  Tb05.5K5.190        False   \n",
       "\n",
       "                                                desc  CF_median  \\\n",
       "0  elongation of very long chain fatty acids prot...   0.836066   \n",
       "1  elongation of very long chain fatty acids prot...   0.017007   \n",
       "2  receptor-type adenylate cyclase GRESAG 4, puta...   0.783333   \n",
       "3  receptor-type adenylate cyclase GRESAG 4, puta...   0.012270   \n",
       "4  receptor-type adenylate cyclase GRESAG 4, puta...   0.700000   \n",
       "\n",
       "   enrichment_median               get_region  ks_overlap  orient_change  \n",
       "0           0.550145  5K5_v5.1:38453..39045:f        none           True  \n",
       "1           0.284211  5K5_v5.1:41304..42034:f        none           True  \n",
       "2           0.643255  5K5_v5.1:47179..47615:f        none           True  \n",
       "3           0.089494                     none        none          False  \n",
       "4           0.658038                     none        none          False  \n",
       "\n",
       "[5 rows x 52 columns]"
      ]
     },
     "execution_count": null,
     "metadata": {},
     "output_type": "execute_result"
    }
   ],
   "source": []
  },
  {
   "cell_type": "markdown",
   "metadata": {},
   "source": [
    "## CODE TO RUN WITH CIRCOS ENV"
   ]
  },
  {
   "cell_type": "code",
   "execution_count": null,
   "metadata": {},
   "outputs": [
    {
     "name": "stdout",
     "output_type": "stream",
     "text": [
      "/bin/sh: bedops: command not found\n"
     ]
    }
   ],
   "source": [
    "bedops --difference final_df_B.bed cds_927.bed > final_df_B_no_cds.bed\n",
    "bedops --element-of 100% final_df_B.bed cds_927.bed > final_df_B_only_cds.bed\n",
    "bedops --element-of 100% final_df_G.bed cds_927.bed > final_df_G_only_cds.bed"
   ]
  },
  {
   "cell_type": "code",
   "execution_count": null,
   "metadata": {},
   "outputs": [],
   "source": [
    "sort-bed final_df_B.bed > sorted_final_df_B.bed\n",
    "sort-bed final_df_G.bed > sorted_final_df_G.bed\n",
    "sort-bed cds_927.bed > sorted_cds_927.bed"
   ]
  },
  {
   "cell_type": "code",
   "execution_count": null,
   "metadata": {},
   "outputs": [],
   "source": [
    "bedops --element-of 100% sorted_final_df_B.bed sorted_cds_927.bed > final_df_B_only_cds.bed\n",
    "bedops --element-of 100% sorted_final_df_G.bed sorted_cds_927.bed > final_df_G_only_cds.bed"
   ]
  },
  {
   "cell_type": "code",
   "execution_count": null,
   "metadata": {},
   "outputs": [
    {
     "name": "stdout",
     "output_type": "stream",
     "text": [
      "debuggroup summary 0.13s welcome to circos v0.69-8 15 Jun 2019 on Perl 5.032001\n",
      "debuggroup summary 0.13s current working directory /Users/MTinti/git_projects/motif_dhorn/circos_plot\n",
      "debuggroup summary 0.13s command /Users/MTinti/miniconda3/envs/work3/bin/circos -conf fig_sense.conf -param file=sense\n",
      "debuggroup summary 0.13s loading configuration from file fig_sense.conf\n",
      "debuggroup summary 0.13s found conf file fig_sense.conf\n",
      "debuggroup summary 0.23s debug will appear for these features: output,summary\n",
      "debuggroup summary 0.23s bitmap output image ./sense.png\n",
      "debuggroup summary 0.23s SVG output image ./sense.svg\n",
      "debuggroup summary 0.23s parsing karyotype and organizing ideograms\n",
      "debuggroup summary 0.26s karyotype has 11 chromosomes of total size 26,520,491\n",
      "debuggroup summary 0.26s applying global and local scaling\n",
      "debuggroup summary 0.27s allocating image, colors and brushes\n",
      "debuggroup summary 1.35s drawing 11 ideograms of total size 26,520,491\n",
      "debuggroup summary 1.35s drawing highlights and ideograms\n",
      "debuggroup summary 1.49s found conf file /Users/MTinti/miniconda3/envs/work3/bin/../etc/tracks/scatter.conf\n",
      "debuggroup summary 1.49s found conf file /Users/MTinti/miniconda3/envs/work3/bin/../etc/tracks/scatter.conf\n",
      "debuggroup summary 1.49s found conf file /Users/MTinti/miniconda3/envs/work3/bin/../etc/tracks/scatter.conf\n",
      "debuggroup summary 1.50s found conf file /Users/MTinti/miniconda3/envs/work3/bin/../etc/tracks/scatter.conf\n",
      "debuggroup summary 1.50s processing track_0 scatter /Users/MTinti/git_projects/motif_dhorn/circos_plot/bla_scatter_utr.txt\n",
      "debuggroup summary 1.73s processing track_1 scatter /Users/MTinti/git_projects/motif_dhorn/circos_plot/gla_scatter_utr.txt\n",
      "debuggroup summary 1.99s processing track_2 scatter /Users/MTinti/git_projects/motif_dhorn/circos_plot/bla_scatter_cds.txt\n",
      "debuggroup summary 2.00s processing track_3 scatter /Users/MTinti/git_projects/motif_dhorn/circos_plot/gla_scatter_cds.txt\n",
      "debuggroup summary 2.12s drawing track_0 scatter z 0 bla_scatter_utr.txt orient out\n",
      "debuggroup summary 2.17s found conf file /Users/MTinti/miniconda3/envs/work3/bin/../etc/tracks/axis.conf\n",
      "WARNING *** Data point of type [scatter] [1587937-1590432] extended past end of ideogram [Tb927_04_v5.1 0-1590431]. This data point will be [trimmed].\n",
      "debuggroup summary 2.75s drawing track_1 scatter z 0 gla_scatter_utr.txt orient out\n",
      "debuggroup summary 2.81s found conf file /Users/MTinti/miniconda3/envs/work3/bin/../etc/tracks/axis.conf\n",
      "debuggroup summary 3.42s drawing track_2 scatter z 0 bla_scatter_cds.txt orient out\n",
      "debuggroup summary 3.43s found conf file /Users/MTinti/miniconda3/envs/work3/bin/../etc/tracks/axis.conf\n",
      "debuggroup summary 3.48s drawing track_3 scatter z 0 gla_scatter_cds.txt orient out\n",
      "debuggroup summary 3.51s found conf file /Users/MTinti/miniconda3/envs/work3/bin/../etc/tracks/axis.conf\n",
      "debuggroup output 3.83s generating output\n",
      "debuggroup output 4.19s created PNG image ./sense.png (884 kb)\n",
      "debuggroup output 4.19s created SVG image ./sense.svg (645 kb)\n"
     ]
    }
   ],
   "source": [
    "!circos -conf fig_sense.conf -param file=sense"
   ]
  },
  {
   "cell_type": "code",
   "execution_count": null,
   "metadata": {},
   "outputs": [],
   "source": []
  },
  {
   "cell_type": "markdown",
   "metadata": {},
   "source": [
    "# Anti-sence"
   ]
  },
  {
   "cell_type": "markdown",
   "metadata": {},
   "source": [
    "## bla_scatter_cds R"
   ]
  },
  {
   "cell_type": "code",
   "execution_count": null,
   "metadata": {},
   "outputs": [
    {
     "name": "stdout",
     "output_type": "stream",
     "text": [
      "(411, 52)\n",
      "(411, 52)\n"
     ]
    },
    {
     "data": {
      "text/plain": [
       "count    48.000000\n",
       "mean      1.514707\n",
       "std       1.225799\n",
       "min       0.028014\n",
       "25%       0.535155\n",
       "50%       1.255950\n",
       "75%       2.380685\n",
       "max       4.000000\n",
       "Name: fc, dtype: float64"
      ]
     },
     "execution_count": null,
     "metadata": {},
     "output_type": "execute_result"
    }
   ],
   "source": [
    "\n",
    "plus_cols = [\n",
    "    'BSF_03_F',\n",
    "    'BSF_03_RR',\n",
    "'BSF_04_F',\n",
    "'BSF_04_RR',\n",
    "'BSF_05_F',\n",
    "'BSF_05_RR']\n",
    "\n",
    "control_plus = [\n",
    "    'BSF_01_F',\n",
    "    'BSF_01_RR',    \n",
    "]\n",
    "\n",
    "\n",
    "minus_cols = [\n",
    "'BSF_03_R',\n",
    "'BSF_03_FR',\n",
    "'BSF_04_R',\n",
    "'BSF_04_FR',\n",
    "'BSF_05_R',\n",
    "'BSF_05_FR']\n",
    "\n",
    "\n",
    "control_minus = [\n",
    "    'BSF_01_F',\n",
    "    'BSF_01_RR',    \n",
    "]\n",
    "\n",
    "bla_df= pd.read_csv('../final_df_B.csv')\n",
    "temp_df = pd.read_csv('final_df_B_only_cds.bed',sep='\\t',header=None,index_col=-1)\n",
    "\n",
    "\n",
    "bla_df = bla_df[bla_df['Geneid'].isin(temp_df.index.values)]\n",
    "print(bla_df.shape)\n",
    "\n",
    "print(bla_df.shape)\n",
    "\n",
    "\n",
    "\n",
    "temp_plus = bla_df[bla_df['orientation']=='-']\n",
    "temp_plus['fc'] = temp_plus[plus_cols].sum(axis=1)/3\n",
    "temp_plus['fc'] = temp_plus['fc']\n",
    "temp_plus['fc'] = temp_plus['fc']/(temp_plus[control_plus].sum(axis=1)+1)\n",
    "temp_plus['fc']=np.log2(temp_plus['fc'])\n",
    "temp_plus = temp_plus[temp_plus['fc']>0]\n",
    "\n",
    "temp_minus = bla_df[bla_df['orientation']=='+']\n",
    "temp_minus['fc'] = temp_minus[minus_cols].sum(axis=1)/3\n",
    "temp_minus['fc'] = temp_minus['fc']/(temp_minus[control_minus].sum(axis=1)+1)\n",
    "temp_minus['fc']=np.log2(temp_minus['fc'])\n",
    "temp_minus = temp_minus[temp_minus['fc']>0]\n",
    "\n",
    "scatter_df = pd.concat([temp_plus,temp_minus])\n",
    "scatter_df = scatter_df[scatter_df['Chr'].isin(main_chro)]\n",
    "scatter_df[scatter_df['get_region']!='none']\n",
    "\n",
    "scatter_df = scatter_df.replace(-np.inf,np.nan).dropna()\n",
    "scatter_df['fc']=scatter_df['fc'].clip(0,4)\n",
    "scatter_df[['Chr','Start','End','fc']].to_csv('bla_scatter_cds_R.txt',index=False,header=False,sep=' ')\n",
    "scatter_df['fc'].describe()"
   ]
  },
  {
   "cell_type": "markdown",
   "metadata": {},
   "source": [
    "## bla_scatter_utr R"
   ]
  },
  {
   "cell_type": "code",
   "execution_count": null,
   "metadata": {},
   "outputs": [
    {
     "name": "stdout",
     "output_type": "stream",
     "text": [
      "(4567, 52)\n"
     ]
    },
    {
     "data": {
      "text/plain": [
       "count    891.000000\n",
       "mean       1.615359\n",
       "std        1.186219\n",
       "min        0.004899\n",
       "25%        0.610308\n",
       "50%        1.372923\n",
       "75%        2.433331\n",
       "max        4.000000\n",
       "Name: fc, dtype: float64"
      ]
     },
     "execution_count": null,
     "metadata": {},
     "output_type": "execute_result"
    }
   ],
   "source": [
    "\n",
    "plus_cols = [\n",
    "    'BSF_03_F',\n",
    "    'BSF_03_RR',\n",
    "'BSF_04_F',\n",
    "'BSF_04_RR',\n",
    "'BSF_05_F',\n",
    "'BSF_05_RR']\n",
    "\n",
    "control_plus = [\n",
    "    'BSF_01_F',\n",
    "    'BSF_01_RR',    \n",
    "]\n",
    "\n",
    "\n",
    "minus_cols = [\n",
    "'BSF_03_R',\n",
    "'BSF_03_FR',\n",
    "'BSF_04_R',\n",
    "'BSF_04_FR',\n",
    "'BSF_05_R',\n",
    "'BSF_05_FR']\n",
    "\n",
    "\n",
    "control_minus = [\n",
    "    'BSF_01_F',\n",
    "    'BSF_01_RR',    \n",
    "]\n",
    "\n",
    "bla_df= pd.read_csv('../final_df_B.csv')\n",
    "temp_df = pd.read_csv('final_df_B_only_cds.bed',sep='\\t',header=None,index_col=-1)\n",
    "\n",
    "\n",
    "bla_df = bla_df[~bla_df['Geneid'].isin(temp_df.index.values)]\n",
    "\n",
    "print(bla_df.shape)\n",
    "\n",
    "\n",
    "\n",
    "temp_plus = bla_df[bla_df['orientation']=='-']\n",
    "temp_plus['fc'] = temp_plus[plus_cols].sum(axis=1)/3\n",
    "temp_plus['fc'] = temp_plus['fc']\n",
    "temp_plus['fc'] = temp_plus['fc']/(temp_plus[control_plus].sum(axis=1)+1)\n",
    "temp_plus['fc']=np.log2(temp_plus['fc'])\n",
    "temp_plus = temp_plus[temp_plus['fc']>0]\n",
    "\n",
    "temp_minus = bla_df[bla_df['orientation']=='+']\n",
    "temp_minus['fc'] = temp_minus[minus_cols].sum(axis=1)/3\n",
    "temp_minus['fc'] = temp_minus['fc']/(temp_minus[control_minus].sum(axis=1)+1)\n",
    "temp_minus['fc']=np.log2(temp_minus['fc'])\n",
    "temp_minus = temp_minus[temp_minus['fc']>0]\n",
    "\n",
    "scatter_df = pd.concat([temp_plus,temp_minus])\n",
    "scatter_df = scatter_df[scatter_df['Chr'].isin(main_chro)]\n",
    "scatter_df[scatter_df['get_region']!='none']\n",
    "\n",
    "scatter_df = scatter_df.replace(-np.inf,np.nan).dropna()\n",
    "scatter_df['fc']=scatter_df['fc'].clip(0,4)\n",
    "scatter_df[['Chr','Start','End','fc']].to_csv('bla_scatter_utr_R.txt',index=False,header=False,sep=' ')\n",
    "scatter_df['fc'].describe()"
   ]
  },
  {
   "cell_type": "markdown",
   "metadata": {},
   "source": [
    "## gla_scatter_utr R"
   ]
  },
  {
   "cell_type": "code",
   "execution_count": null,
   "metadata": {},
   "outputs": [
    {
     "name": "stdout",
     "output_type": "stream",
     "text": [
      "(6331, 52)\n",
      "(2730, 53)\n"
     ]
    },
    {
     "data": {
      "text/plain": [
       "count    2566.000000\n",
       "mean        1.399552\n",
       "std         1.008188\n",
       "min         0.005782\n",
       "25%         0.660072\n",
       "50%         1.199418\n",
       "75%         1.874469\n",
       "max         4.000000\n",
       "Name: fc, dtype: float64"
      ]
     },
     "execution_count": null,
     "metadata": {},
     "output_type": "execute_result"
    }
   ],
   "source": [
    "\n",
    "\n",
    "control_plus = [\n",
    "    'BSF_01_F',\n",
    "    'BSF_01_RR',    \n",
    "]\n",
    "\n",
    "\n",
    "plus_cols = [\n",
    "    'BSF_06_F',\n",
    "    'BSF_06_RR',\n",
    "'BSF_07_F',\n",
    "'BSF_07_RR',\n",
    "'BSF_08_F',\n",
    "'BSF_08_RR']\n",
    "\n",
    "minus_cols = [\n",
    "'BSF_06_R',\n",
    "'BSF_06_FR',\n",
    "'BSF_07_R',\n",
    "'BSF_07_FR',\n",
    "'BSF_08_R',\n",
    "'BSF_08_FR']\n",
    "\n",
    "\n",
    "control_minus = [\n",
    "    'BSF_01_F',\n",
    "    'BSF_01_RR',    \n",
    "]\n",
    "\n",
    "bla_df= pd.read_csv('../final_df_G.csv')\n",
    "temp_df = pd.read_csv('final_df_G_only_cds.bed',sep='\\t',header=None,index_col=-1)\n",
    "\n",
    "\n",
    "bla_df = bla_df[~bla_df['Geneid'].isin(temp_df.index.values)]\n",
    "\n",
    "print(bla_df.shape)\n",
    "\n",
    "\n",
    "\n",
    "temp_plus = bla_df[bla_df['orientation']=='-']\n",
    "temp_plus['fc'] = temp_plus[plus_cols].sum(axis=1)/3\n",
    "temp_plus['fc'] = temp_plus['fc']\n",
    "temp_plus['fc'] = temp_plus['fc']/(temp_plus[control_plus].sum(axis=1)+1)\n",
    "temp_plus['fc']=np.log2(temp_plus['fc'])\n",
    "temp_plus = temp_plus[temp_plus['fc']>0]\n",
    "\n",
    "temp_minus = bla_df[bla_df['orientation']=='+']\n",
    "temp_minus['fc'] = temp_minus[minus_cols].sum(axis=1)/3\n",
    "temp_minus['fc'] = temp_minus['fc']/(temp_minus[control_minus].sum(axis=1)+1)\n",
    "temp_minus['fc']=np.log2(temp_minus['fc'])\n",
    "temp_minus = temp_minus[temp_minus['fc']>0]\n",
    "\n",
    "scatter_df = pd.concat([temp_plus,temp_minus])\n",
    "scatter_df = scatter_df[scatter_df['Chr'].isin(main_chro)]\n",
    "\n",
    "print(scatter_df.shape)\n",
    "scatter_df = scatter_df.replace(-np.inf,np.nan).dropna()\n",
    "scatter_df['fc']=scatter_df['fc'].clip(0,4)\n",
    "scatter_df[['Chr','Start','End','fc']].to_csv('gla_scatter_utr_R.txt',index=False,header=False,sep=' ')\n",
    "scatter_df['fc'].describe()"
   ]
  },
  {
   "cell_type": "markdown",
   "metadata": {},
   "source": [
    "## gla_scatter_cds R"
   ]
  },
  {
   "cell_type": "code",
   "execution_count": null,
   "metadata": {},
   "outputs": [
    {
     "name": "stdout",
     "output_type": "stream",
     "text": [
      "(8272, 52)\n",
      "(1941, 52)\n",
      "(1016, 53)\n"
     ]
    },
    {
     "data": {
      "text/plain": [
       "count    930.000000\n",
       "mean       1.507967\n",
       "std        1.076744\n",
       "min        0.004212\n",
       "25%        0.652077\n",
       "50%        1.267292\n",
       "75%        2.078392\n",
       "max        4.000000\n",
       "Name: fc, dtype: float64"
      ]
     },
     "execution_count": null,
     "metadata": {},
     "output_type": "execute_result"
    }
   ],
   "source": [
    "\n",
    "\n",
    "control_plus = [\n",
    "    'BSF_01_F',\n",
    "    'BSF_01_RR',    \n",
    "]\n",
    "\n",
    "\n",
    "plus_cols = [\n",
    "    'BSF_06_F',\n",
    "    'BSF_06_RR',\n",
    "'BSF_07_F',\n",
    "'BSF_07_RR',\n",
    "'BSF_08_F',\n",
    "'BSF_08_RR']\n",
    "\n",
    "minus_cols = [\n",
    "'BSF_06_R',\n",
    "'BSF_06_FR',\n",
    "'BSF_07_R',\n",
    "'BSF_07_FR',\n",
    "'BSF_08_R',\n",
    "'BSF_08_FR']\n",
    "\n",
    "\n",
    "control_minus = [\n",
    "    'BSF_01_F',\n",
    "    'BSF_01_RR',    \n",
    "]\n",
    "\n",
    "bla_df= pd.read_csv('../final_df_G.csv')\n",
    "\n",
    "\n",
    "temp_df = pd.read_csv('final_df_G_only_cds.bed',sep='\\t',header=None,index_col=-1)\n",
    "\n",
    "print(bla_df.shape)\n",
    "bla_df = bla_df[bla_df['Geneid'].isin(temp_df.index.values)]\n",
    "print(bla_df.shape)\n",
    "\n",
    "\n",
    "\n",
    "temp_plus = bla_df[bla_df['orientation']=='-']\n",
    "temp_plus['fc'] = temp_plus[plus_cols].sum(axis=1)/3\n",
    "temp_plus['fc'] = temp_plus['fc']\n",
    "temp_plus['fc'] = temp_plus['fc']/(temp_plus[control_plus].sum(axis=1)+1)\n",
    "temp_plus['fc']=np.log2(temp_plus['fc'])\n",
    "temp_plus = temp_plus[temp_plus['fc']>0]\n",
    "\n",
    "temp_minus = bla_df[bla_df['orientation']=='+']\n",
    "temp_minus['fc'] = temp_minus[minus_cols].sum(axis=1)/3\n",
    "temp_minus['fc'] = temp_minus['fc']/(temp_minus[control_minus].sum(axis=1)+1)\n",
    "temp_minus['fc']=np.log2(temp_minus['fc'])\n",
    "temp_minus = temp_minus[temp_minus['fc']>0]\n",
    "\n",
    "scatter_df = pd.concat([temp_plus,temp_minus])\n",
    "scatter_df = scatter_df[scatter_df['Chr'].isin(main_chro)]\n",
    "\n",
    "print(scatter_df.shape)\n",
    "scatter_df = scatter_df.replace(-np.inf,np.nan).dropna()\n",
    "scatter_df['fc']=scatter_df['fc'].clip(0,4)\n",
    "scatter_df[['Chr','Start','End','fc']].to_csv('gla_scatter_cds_R.txt',index=False,header=False,sep=' ')\n",
    "scatter_df['fc'].describe()"
   ]
  },
  {
   "cell_type": "markdown",
   "metadata": {},
   "source": [
    "## CODE TO RUN WITH CIRCOS ENV"
   ]
  },
  {
   "cell_type": "code",
   "execution_count": null,
   "metadata": {},
   "outputs": [],
   "source": [
    "circos -conf fig_anti_sense.conf -param file=anti_sense"
   ]
  },
  {
   "cell_type": "markdown",
   "metadata": {},
   "source": [
    "# Gene track"
   ]
  },
  {
   "cell_type": "code",
   "execution_count": null,
   "metadata": {},
   "outputs": [],
   "source": [
    "infile=os.path.join('TriTrypDB-51_TbruceiTREU927.gff')\n",
    "#read the GFF file\n",
    "gff = pd.read_table(infile,header=None,comment='#',\n",
    "                    names = ['seqname','source',\n",
    "                             'feature','start',\n",
    "                             'end','score',\n",
    "                             'strand','frame','attribute'])\n",
    "#keep only gene data\n",
    "gff=gff[gff.feature=='CDS']\n",
    "gff=gff[gff['seqname'].isin(main_chro)]\n",
    "gff[['seqname','start','end']].to_csv('genes.txt',index=False,header=False,sep='\\t')"
   ]
  },
  {
   "cell_type": "code",
   "execution_count": null,
   "metadata": {},
   "outputs": [],
   "source": [
    "infile=os.path.join('TriTrypDB-51_TbruceiTREU927.gff')\n",
    "#read the GFF file\n",
    "gff = pd.read_table(infile,header=None,comment='#',\n",
    "                    names = ['seqname','source',\n",
    "                             'feature','start',\n",
    "                             'end','score',\n",
    "                             'strand','frame','attribute'])\n",
    "#keep only gene data\n",
    "gff=gff[gff.feature=='rRNA']\n",
    "gff=gff[gff['seqname'].isin(main_chro)]\n",
    "gff[['seqname','start','end']].to_csv('rRNA.txt',index=False,header=False,sep='\\t')"
   ]
  },
  {
   "cell_type": "code",
   "execution_count": null,
   "metadata": {},
   "outputs": [],
   "source": [
    "infile=os.path.join('TriTrypDB-51_TbruceiTREU927.gff')\n",
    "#read the GFF file\n",
    "gff = pd.read_table(infile,header=None,comment='#',\n",
    "                    names = ['seqname','source',\n",
    "                             'feature','start',\n",
    "                             'end','score',\n",
    "                             'strand','frame','attribute'])\n",
    "#keep only gene data\n",
    "gff=gff[gff.feature=='gene']\n",
    "gff=gff[gff['seqname'].isin(main_chro)]\n",
    "gff=gff[gff['attribute'].str.contains('retrotransposon hot spot')]\n",
    "gff[['seqname','start','end']].to_csv('RHSP.txt',index=False,header=False,sep='\\t')"
   ]
  },
  {
   "cell_type": "code",
   "execution_count": null,
   "metadata": {},
   "outputs": [],
   "source": [
    "infile=os.path.join('TriTrypDB-51_TbruceiTREU927.gff')\n",
    "#read the GFF file\n",
    "gff = pd.read_table(infile,header=None,comment='#',\n",
    "                    names = ['seqname','source',\n",
    "                             'feature','start',\n",
    "                             'end','score',\n",
    "                             'strand','frame','attribute'])\n",
    "#keep only gene data\n",
    "gff=gff[gff.feature=='gene']\n",
    "gff=gff[gff['seqname'].isin(main_chro)]\n",
    "gff=gff[gff['attribute'].str.contains('expression site-associated gene')]\n",
    "gff[['seqname','start','end']].to_csv('ESAG.txt',index=False,header=False,sep='\\t')\n"
   ]
  },
  {
   "cell_type": "code",
   "execution_count": null,
   "metadata": {},
   "outputs": [
    {
     "data": {
      "text/plain": [
       "seqname\n",
       "Tb927_01_v5.1    22\n",
       "Tb927_02_v5.1     8\n",
       "Tb927_03_v5.1    20\n",
       "Tb927_04_v5.1     6\n",
       "Tb927_05_v5.1    14\n",
       "Tb927_06_v5.1    13\n",
       "Tb927_07_v5.1     6\n",
       "Tb927_08_v5.1     5\n",
       "Tb927_09_v5.1    36\n",
       "Tb927_10_v5.1    10\n",
       "Tb927_11_v5.1    26\n",
       "dtype: int64"
      ]
     },
     "execution_count": null,
     "metadata": {},
     "output_type": "execute_result"
    }
   ],
   "source": [
    "gff.groupby('seqname').size()"
   ]
  },
  {
   "cell_type": "code",
   "execution_count": null,
   "metadata": {},
   "outputs": [],
   "source": [
    "infile=os.path.join('TriTrypDB-51_TbruceiTREU927.gff')\n",
    "#read the GFF file\n",
    "gff = pd.read_table(infile,header=None,comment='#',\n",
    "                    names = ['seqname','source',\n",
    "                             'feature','start',\n",
    "                             'end','score',\n",
    "                             'strand','frame','attribute'])\n",
    "#keep only gene data\n",
    "gff=gff[gff.feature=='gene']\n",
    "gff=gff[gff['seqname'].isin(main_chro)]\n",
    "gff=gff[gff['attribute'].str.contains('(VSG)')]\n",
    "gff[['seqname','start','end']].to_csv('VSG.txt',index=False,header=False,sep='\\t')\n"
   ]
  },
  {
   "cell_type": "code",
   "execution_count": null,
   "metadata": {},
   "outputs": [
    {
     "data": {
      "text/plain": [
       "seqname\n",
       "Tb927_01_v5.1      6\n",
       "Tb927_02_v5.1      4\n",
       "Tb927_03_v5.1     16\n",
       "Tb927_04_v5.1     13\n",
       "Tb927_05_v5.1     17\n",
       "Tb927_06_v5.1     11\n",
       "Tb927_07_v5.1      4\n",
       "Tb927_08_v5.1      6\n",
       "Tb927_09_v5.1    237\n",
       "Tb927_10_v5.1     27\n",
       "Tb927_11_v5.1    136\n",
       "dtype: int64"
      ]
     },
     "execution_count": null,
     "metadata": {},
     "output_type": "execute_result"
    }
   ],
   "source": [
    "gff.groupby('seqname').size()"
   ]
  },
  {
   "cell_type": "code",
   "execution_count": null,
   "metadata": {},
   "outputs": [],
   "source": []
  }
 ],
 "metadata": {
  "kernelspec": {
   "display_name": "python3",
   "language": "python",
   "name": "python3"
  }
 },
 "nbformat": 4,
 "nbformat_minor": 4
}
